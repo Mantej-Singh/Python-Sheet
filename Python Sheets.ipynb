{
 "cells": [
  {
   "cell_type": "markdown",
   "metadata": {},
   "source": [
    "## ![s](https://s19.postimg.org/x69rfot6b/Pampa_ds160.png)"
   ]
  },
  {
   "cell_type": "code",
   "execution_count": 6,
   "metadata": {
    "collapsed": true
   },
   "outputs": [],
   "source": [
    "import pygsheets"
   ]
  },
  {
   "cell_type": "code",
   "execution_count": 16,
   "metadata": {
    "collapsed": true
   },
   "outputs": [],
   "source": [
    "import pandas as pd"
   ]
  },
  {
   "cell_type": "code",
   "execution_count": 8,
   "metadata": {},
   "outputs": [
    {
     "name": "stdout",
     "output_type": "stream",
     "text": [
      "\n",
      "Your browser has been opened to visit:\n",
      "\n",
      "    https://accounts.google.com/o/oauth2/auth?redirect_uri=http%3A%2F%2Flocalhost%3A8080%2F&scope=https%3A%2F%2Fwww.googleapis.com%2Fauth%2Fspreadsheets+https%3A%2F%2Fwww.googleapis.com%2Fauth%2Fdrive&client_id=659871321478-0k2hssu970f92vst5irfgdopdf8dkaib.apps.googleusercontent.com&access_type=offline&response_type=code\n",
      "\n",
      "If your browser is on a different machine then exit and re-run this\n",
      "application with the command-line parameter\n",
      "\n",
      "  --noauth_local_webserver\n",
      "\n",
      "Authentication successful.\n",
      "Storing credentials to C:\\Users\\Jarvis\\sheets.googleapis.com-python.json\n"
     ]
    }
   ],
   "source": [
    "gc = pygsheets.authorize(outh_file='GoogleSheets_client_secret_OAuth.json')\n"
   ]
  },
  {
   "cell_type": "markdown",
   "metadata": {},
   "source": [
    "### Our sheet in Google Drive"
   ]
  },
  {
   "cell_type": "markdown",
   "metadata": {},
   "source": [
    "### ![s](http://s19.postimg.org/myr83a6yb/Pampa_ds160.png)"
   ]
  },
  {
   "cell_type": "code",
   "execution_count": 10,
   "metadata": {
    "collapsed": true
   },
   "outputs": [],
   "source": [
    "# Find a workbook by name and open the first sheet\n",
    "# Make sure you use the right name here.\n",
    "sheet=gc.open('TEST_Emp_data').sheet1"
   ]
  },
  {
   "cell_type": "code",
   "execution_count": 15,
   "metadata": {},
   "outputs": [
    {
     "data": {
      "text/plain": [
       "list"
      ]
     },
     "execution_count": 15,
     "metadata": {},
     "output_type": "execute_result"
    }
   ],
   "source": [
    "# Extract and print all of the values\n",
    "TEST_Emp_data = sheet.get_all_records()\n",
    "type(TEST_Emp_data)"
   ]
  },
  {
   "cell_type": "code",
   "execution_count": 21,
   "metadata": {},
   "outputs": [
    {
     "data": {
      "text/plain": [
       "[{'ID': 1,\n",
       "  'Location': '2°32′S   140°43′E Jayapura, Indonesia',\n",
       "  'Name': 'Spring Magoon'},\n",
       " {'ID': 2,\n",
       "  'Location': '22°34′S   17°05′E Windhoek, Namibia',\n",
       "  'Name': 'Gema Coberly'},\n",
       " {'ID': 3,\n",
       "  'Location': '44°45′N   19°42′E Šabac, Serbia',\n",
       "  'Name': 'Paige Wallace'},\n",
       " {'ID': 4, 'Location': '15°36′S   56°06′W Cuiabá, Brazil', 'Name': 'Sun Mees'},\n",
       " {'ID': 5,\n",
       "  'Location': '36°23′N   139°04′E Maebashi, Japan',\n",
       "  'Name': 'Germaine Manuelito'},\n",
       " {'ID': 6, 'Location': '13°32′S   71°58′W Cusco, Peru', 'Name': 'Iris Cowen'},\n",
       " {'ID': 7,\n",
       "  'Location': '12°07′N   68°56′W Willemstad, Netherlands',\n",
       "  'Name': 'Shantae Sulton'},\n",
       " {'ID': 8,\n",
       "  'Location': '38°33′N   121°28′W Sacramento, United States',\n",
       "  'Name': 'Tanika Carrera'},\n",
       " {'ID': 9,\n",
       "  'Location': '31°56′N   35°56′E Amman, Jordan',\n",
       "  'Name': 'Lisabeth Milburn'},\n",
       " {'ID': 10,\n",
       "  'Location': '54°05′N   2°80′W Lancaster, United Kingdom',\n",
       "  'Name': 'Carletta Slayton'}]"
      ]
     },
     "execution_count": 21,
     "metadata": {},
     "output_type": "execute_result"
    }
   ],
   "source": [
    "TEST_Emp_data"
   ]
  },
  {
   "cell_type": "markdown",
   "metadata": {},
   "source": [
    "### Saving the Google Sheet into Pandas dataframe"
   ]
  },
  {
   "cell_type": "code",
   "execution_count": 25,
   "metadata": {
    "collapsed": true
   },
   "outputs": [],
   "source": [
    "df = pd.DataFrame.from_records(TEST_Emp_data)\n"
   ]
  },
  {
   "cell_type": "markdown",
   "metadata": {},
   "source": [
    "#### changing the order of DataFrame columns"
   ]
  },
  {
   "cell_type": "code",
   "execution_count": 27,
   "metadata": {},
   "outputs": [],
   "source": [
    "df=df[['ID','Name','Location']]"
   ]
  },
  {
   "cell_type": "code",
   "execution_count": 28,
   "metadata": {},
   "outputs": [
    {
     "data": {
      "text/html": [
       "<div>\n",
       "<table border=\"1\" class=\"dataframe\">\n",
       "  <thead>\n",
       "    <tr style=\"text-align: right;\">\n",
       "      <th></th>\n",
       "      <th>ID</th>\n",
       "      <th>Name</th>\n",
       "      <th>Location</th>\n",
       "    </tr>\n",
       "  </thead>\n",
       "  <tbody>\n",
       "    <tr>\n",
       "      <th>0</th>\n",
       "      <td>1</td>\n",
       "      <td>Spring Magoon</td>\n",
       "      <td>2°32′S   140°43′E Jayapura, Indonesia</td>\n",
       "    </tr>\n",
       "    <tr>\n",
       "      <th>1</th>\n",
       "      <td>2</td>\n",
       "      <td>Gema Coberly</td>\n",
       "      <td>22°34′S   17°05′E Windhoek, Namibia</td>\n",
       "    </tr>\n",
       "    <tr>\n",
       "      <th>2</th>\n",
       "      <td>3</td>\n",
       "      <td>Paige Wallace</td>\n",
       "      <td>44°45′N   19°42′E Šabac, Serbia</td>\n",
       "    </tr>\n",
       "    <tr>\n",
       "      <th>3</th>\n",
       "      <td>4</td>\n",
       "      <td>Sun Mees</td>\n",
       "      <td>15°36′S   56°06′W Cuiabá, Brazil</td>\n",
       "    </tr>\n",
       "    <tr>\n",
       "      <th>4</th>\n",
       "      <td>5</td>\n",
       "      <td>Germaine Manuelito</td>\n",
       "      <td>36°23′N   139°04′E Maebashi, Japan</td>\n",
       "    </tr>\n",
       "    <tr>\n",
       "      <th>5</th>\n",
       "      <td>6</td>\n",
       "      <td>Iris Cowen</td>\n",
       "      <td>13°32′S   71°58′W Cusco, Peru</td>\n",
       "    </tr>\n",
       "    <tr>\n",
       "      <th>6</th>\n",
       "      <td>7</td>\n",
       "      <td>Shantae Sulton</td>\n",
       "      <td>12°07′N   68°56′W Willemstad, Netherlands</td>\n",
       "    </tr>\n",
       "    <tr>\n",
       "      <th>7</th>\n",
       "      <td>8</td>\n",
       "      <td>Tanika Carrera</td>\n",
       "      <td>38°33′N   121°28′W Sacramento, United States</td>\n",
       "    </tr>\n",
       "    <tr>\n",
       "      <th>8</th>\n",
       "      <td>9</td>\n",
       "      <td>Lisabeth Milburn</td>\n",
       "      <td>31°56′N   35°56′E Amman, Jordan</td>\n",
       "    </tr>\n",
       "    <tr>\n",
       "      <th>9</th>\n",
       "      <td>10</td>\n",
       "      <td>Carletta Slayton</td>\n",
       "      <td>54°05′N   2°80′W Lancaster, United Kingdom</td>\n",
       "    </tr>\n",
       "  </tbody>\n",
       "</table>\n",
       "</div>"
      ],
      "text/plain": [
       "   ID                Name                                      Location\n",
       "0   1       Spring Magoon         2°32′S   140°43′E Jayapura, Indonesia\n",
       "1   2        Gema Coberly           22°34′S   17°05′E Windhoek, Namibia\n",
       "2   3       Paige Wallace               44°45′N   19°42′E Šabac, Serbia\n",
       "3   4            Sun Mees              15°36′S   56°06′W Cuiabá, Brazil\n",
       "4   5  Germaine Manuelito            36°23′N   139°04′E Maebashi, Japan\n",
       "5   6          Iris Cowen                 13°32′S   71°58′W Cusco, Peru\n",
       "6   7      Shantae Sulton     12°07′N   68°56′W Willemstad, Netherlands\n",
       "7   8      Tanika Carrera  38°33′N   121°28′W Sacramento, United States\n",
       "8   9    Lisabeth Milburn               31°56′N   35°56′E Amman, Jordan\n",
       "9  10    Carletta Slayton    54°05′N   2°80′W Lancaster, United Kingdom"
      ]
     },
     "execution_count": 28,
     "metadata": {},
     "output_type": "execute_result"
    }
   ],
   "source": [
    "df"
   ]
  },
  {
   "cell_type": "code",
   "execution_count": null,
   "metadata": {
    "collapsed": true
   },
   "outputs": [],
   "source": []
  }
 ],
 "metadata": {
  "kernelspec": {
   "display_name": "Python 3",
   "language": "python",
   "name": "python3"
  },
  "language_info": {
   "codemirror_mode": {
    "name": "ipython",
    "version": 3
   },
   "file_extension": ".py",
   "mimetype": "text/x-python",
   "name": "python",
   "nbconvert_exporter": "python",
   "pygments_lexer": "ipython3",
   "version": "3.5.2"
  }
 },
 "nbformat": 4,
 "nbformat_minor": 2
}
