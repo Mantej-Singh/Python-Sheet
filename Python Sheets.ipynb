{
 "cells": [
  {
   "cell_type": "markdown",
   "metadata": {},
   "source": [
    "## ![s](https://s19.postimg.org/x69rfot6b/Pampa_ds160.png)"
   ]
  },
  {
   "cell_type": "code",
   "execution_count": 1,
   "metadata": {
    "collapsed": true
   },
   "outputs": [],
   "source": [
    "import pygsheets"
   ]
  },
  {
   "cell_type": "code",
   "execution_count": 2,
   "metadata": {
    "collapsed": true
   },
   "outputs": [],
   "source": [
    "import pandas as pd"
   ]
  },
  {
   "cell_type": "code",
   "execution_count": 3,
   "metadata": {
    "collapsed": true
   },
   "outputs": [],
   "source": [
    "gc = pygsheets.authorize(outh_file='GoogleSheets_client_secret_OAuth.json')\n"
   ]
  },
  {
   "cell_type": "markdown",
   "metadata": {},
   "source": [
    "### Our sheet in Google Drive"
   ]
  },
  {
   "cell_type": "markdown",
   "metadata": {},
   "source": [
    "\n",
    "### ![s](http://s19.postimg.org/myr83a6yb/Pampa_ds160.png)"
   ]
  },
  {
   "cell_type": "code",
   "execution_count": 4,
   "metadata": {},
   "outputs": [
    {
     "name": "stdout",
     "output_type": "stream",
     "text": [
      "Wall time: 676 ms\n"
     ]
    }
   ],
   "source": [
    "%%time\n",
    "# Find a workbook by name and open the first sheet\n",
    "# Make sure you use the right name here.\n",
    "sheet=gc.open('TEST_Emp_data').sheet1"
   ]
  },
  {
   "cell_type": "code",
   "execution_count": 5,
   "metadata": {},
   "outputs": [
    {
     "data": {
      "text/plain": [
       "list"
      ]
     },
     "execution_count": 5,
     "metadata": {},
     "output_type": "execute_result"
    }
   ],
   "source": [
    "# Extract and print all of the values\n",
    "TEST_Emp_data = sheet.get_all_records()\n",
    "type(TEST_Emp_data)"
   ]
  },
  {
   "cell_type": "code",
   "execution_count": 6,
   "metadata": {},
   "outputs": [
    {
     "data": {
      "text/plain": [
       "[{'ID': 1,\n",
       "  'Location': '2°32′S 140°43′E Jayapura, Indonesia',\n",
       "  'Name': 'Spring Magoon'},\n",
       " {'ID': 2,\n",
       "  'Location': '22°34′S 17°05′E Windhoek, Namibia',\n",
       "  'Name': 'Gema Coberly'},\n",
       " {'ID': 3,\n",
       "  'Location': '44°45′N 19°42′E Šabac, Serbia',\n",
       "  'Name': 'Paige Wallace'},\n",
       " {'ID': 4, 'Location': '15°36′S 56°06′W Cuiabá, Brazil', 'Name': 'Sun Mees'},\n",
       " {'ID': 5,\n",
       "  'Location': '36°23′N 139°04′E Maebashi, Japan',\n",
       "  'Name': 'Germaine Manuelito'},\n",
       " {'ID': 6, 'Location': '13°32′S 71°58′W Cusco, Peru', 'Name': 'Iris Cowen'},\n",
       " {'ID': 7,\n",
       "  'Location': '12°07′N 68°56′W Willemstad, Netherlands',\n",
       "  'Name': 'Shantae Sulton'},\n",
       " {'ID': 8,\n",
       "  'Location': '38°33′N 121°28′W Sacramento, United States',\n",
       "  'Name': 'Tanika Carrera'},\n",
       " {'ID': 9,\n",
       "  'Location': '31°56′N 35°56′E Amman, Jordan',\n",
       "  'Name': 'Lisabeth Milburn'},\n",
       " {'ID': 10,\n",
       "  'Location': '54°05′N 2°80′W Lancaster, United Kingdom',\n",
       "  'Name': 'Carletta Slayton'}]"
      ]
     },
     "execution_count": 6,
     "metadata": {},
     "output_type": "execute_result"
    }
   ],
   "source": [
    "TEST_Emp_data"
   ]
  },
  {
   "cell_type": "markdown",
   "metadata": {},
   "source": [
    "### Saving the Google Sheet into Pandas dataframe"
   ]
  },
  {
   "cell_type": "code",
   "execution_count": 28,
   "metadata": {
    "collapsed": true
   },
   "outputs": [],
   "source": [
    "df = pd.DataFrame.from_records(TEST_Emp_data)"
   ]
  },
  {
   "cell_type": "markdown",
   "metadata": {},
   "source": [
    "#### changing the order of DataFrame columns"
   ]
  },
  {
   "cell_type": "code",
   "execution_count": 29,
   "metadata": {
    "collapsed": true
   },
   "outputs": [],
   "source": [
    "df=df[['ID','Name','Location']]"
   ]
  },
  {
   "cell_type": "code",
   "execution_count": 30,
   "metadata": {},
   "outputs": [
    {
     "data": {
      "text/html": [
       "<div>\n",
       "<style>\n",
       "    .dataframe thead tr:only-child th {\n",
       "        text-align: right;\n",
       "    }\n",
       "\n",
       "    .dataframe thead th {\n",
       "        text-align: left;\n",
       "    }\n",
       "\n",
       "    .dataframe tbody tr th {\n",
       "        vertical-align: top;\n",
       "    }\n",
       "</style>\n",
       "<table border=\"1\" class=\"dataframe\">\n",
       "  <thead>\n",
       "    <tr style=\"text-align: right;\">\n",
       "      <th></th>\n",
       "      <th>ID</th>\n",
       "      <th>Name</th>\n",
       "      <th>Location</th>\n",
       "    </tr>\n",
       "  </thead>\n",
       "  <tbody>\n",
       "    <tr>\n",
       "      <th>0</th>\n",
       "      <td>1</td>\n",
       "      <td>Spring Magoon</td>\n",
       "      <td>2°32′S 140°43′E Jayapura, Indonesia</td>\n",
       "    </tr>\n",
       "    <tr>\n",
       "      <th>1</th>\n",
       "      <td>2</td>\n",
       "      <td>Gema Coberly</td>\n",
       "      <td>22°34′S 17°05′E Windhoek, Namibia</td>\n",
       "    </tr>\n",
       "    <tr>\n",
       "      <th>2</th>\n",
       "      <td>3</td>\n",
       "      <td>Paige Wallace</td>\n",
       "      <td>44°45′N 19°42′E Šabac, Serbia</td>\n",
       "    </tr>\n",
       "    <tr>\n",
       "      <th>3</th>\n",
       "      <td>4</td>\n",
       "      <td>Sun Mees</td>\n",
       "      <td>15°36′S 56°06′W Cuiabá, Brazil</td>\n",
       "    </tr>\n",
       "    <tr>\n",
       "      <th>4</th>\n",
       "      <td>5</td>\n",
       "      <td>Germaine Manuelito</td>\n",
       "      <td>36°23′N 139°04′E Maebashi, Japan</td>\n",
       "    </tr>\n",
       "    <tr>\n",
       "      <th>5</th>\n",
       "      <td>6</td>\n",
       "      <td>Iris Cowen</td>\n",
       "      <td>13°32′S 71°58′W Cusco, Peru</td>\n",
       "    </tr>\n",
       "    <tr>\n",
       "      <th>6</th>\n",
       "      <td>7</td>\n",
       "      <td>Shantae Sulton</td>\n",
       "      <td>12°07′N 68°56′W Willemstad, Netherlands</td>\n",
       "    </tr>\n",
       "    <tr>\n",
       "      <th>7</th>\n",
       "      <td>8</td>\n",
       "      <td>Tanika Carrera</td>\n",
       "      <td>38°33′N 121°28′W Sacramento, United States</td>\n",
       "    </tr>\n",
       "    <tr>\n",
       "      <th>8</th>\n",
       "      <td>9</td>\n",
       "      <td>Lisabeth Milburn</td>\n",
       "      <td>31°56′N 35°56′E Amman, Jordan</td>\n",
       "    </tr>\n",
       "    <tr>\n",
       "      <th>9</th>\n",
       "      <td>10</td>\n",
       "      <td>Carletta Slayton</td>\n",
       "      <td>54°05′N 2°80′W Lancaster, United Kingdom</td>\n",
       "    </tr>\n",
       "  </tbody>\n",
       "</table>\n",
       "</div>"
      ],
      "text/plain": [
       "   ID                Name                                    Location\n",
       "0   1       Spring Magoon         2°32′S 140°43′E Jayapura, Indonesia\n",
       "1   2        Gema Coberly           22°34′S 17°05′E Windhoek, Namibia\n",
       "2   3       Paige Wallace               44°45′N 19°42′E Šabac, Serbia\n",
       "3   4            Sun Mees              15°36′S 56°06′W Cuiabá, Brazil\n",
       "4   5  Germaine Manuelito            36°23′N 139°04′E Maebashi, Japan\n",
       "5   6          Iris Cowen                 13°32′S 71°58′W Cusco, Peru\n",
       "6   7      Shantae Sulton     12°07′N 68°56′W Willemstad, Netherlands\n",
       "7   8      Tanika Carrera  38°33′N 121°28′W Sacramento, United States\n",
       "8   9    Lisabeth Milburn               31°56′N 35°56′E Amman, Jordan\n",
       "9  10    Carletta Slayton    54°05′N 2°80′W Lancaster, United Kingdom"
      ]
     },
     "execution_count": 30,
     "metadata": {},
     "output_type": "execute_result"
    }
   ],
   "source": [
    "df"
   ]
  },
  {
   "cell_type": "markdown",
   "metadata": {},
   "source": [
    "### Updated logic, Thank you to Kevin Markham <kevin@dataschool.io>"
   ]
  },
  {
   "cell_type": "code",
   "execution_count": 31,
   "metadata": {
    "collapsed": true
   },
   "outputs": [],
   "source": [
    "df['Address'] = df.Location.str.split(' ').apply(lambda x: ' '.join(x[2:]))"
   ]
  },
  {
   "cell_type": "code",
   "execution_count": 32,
   "metadata": {},
   "outputs": [
    {
     "data": {
      "text/html": [
       "<div>\n",
       "<style>\n",
       "    .dataframe thead tr:only-child th {\n",
       "        text-align: right;\n",
       "    }\n",
       "\n",
       "    .dataframe thead th {\n",
       "        text-align: left;\n",
       "    }\n",
       "\n",
       "    .dataframe tbody tr th {\n",
       "        vertical-align: top;\n",
       "    }\n",
       "</style>\n",
       "<table border=\"1\" class=\"dataframe\">\n",
       "  <thead>\n",
       "    <tr style=\"text-align: right;\">\n",
       "      <th></th>\n",
       "      <th>ID</th>\n",
       "      <th>Name</th>\n",
       "      <th>Location</th>\n",
       "      <th>Address</th>\n",
       "    </tr>\n",
       "  </thead>\n",
       "  <tbody>\n",
       "    <tr>\n",
       "      <th>0</th>\n",
       "      <td>1</td>\n",
       "      <td>Spring Magoon</td>\n",
       "      <td>2°32′S 140°43′E Jayapura, Indonesia</td>\n",
       "      <td>Jayapura, Indonesia</td>\n",
       "    </tr>\n",
       "    <tr>\n",
       "      <th>1</th>\n",
       "      <td>2</td>\n",
       "      <td>Gema Coberly</td>\n",
       "      <td>22°34′S 17°05′E Windhoek, Namibia</td>\n",
       "      <td>Windhoek, Namibia</td>\n",
       "    </tr>\n",
       "    <tr>\n",
       "      <th>2</th>\n",
       "      <td>3</td>\n",
       "      <td>Paige Wallace</td>\n",
       "      <td>44°45′N 19°42′E Šabac, Serbia</td>\n",
       "      <td>Šabac, Serbia</td>\n",
       "    </tr>\n",
       "    <tr>\n",
       "      <th>3</th>\n",
       "      <td>4</td>\n",
       "      <td>Sun Mees</td>\n",
       "      <td>15°36′S 56°06′W Cuiabá, Brazil</td>\n",
       "      <td>Cuiabá, Brazil</td>\n",
       "    </tr>\n",
       "    <tr>\n",
       "      <th>4</th>\n",
       "      <td>5</td>\n",
       "      <td>Germaine Manuelito</td>\n",
       "      <td>36°23′N 139°04′E Maebashi, Japan</td>\n",
       "      <td>Maebashi, Japan</td>\n",
       "    </tr>\n",
       "    <tr>\n",
       "      <th>5</th>\n",
       "      <td>6</td>\n",
       "      <td>Iris Cowen</td>\n",
       "      <td>13°32′S 71°58′W Cusco, Peru</td>\n",
       "      <td>Cusco, Peru</td>\n",
       "    </tr>\n",
       "    <tr>\n",
       "      <th>6</th>\n",
       "      <td>7</td>\n",
       "      <td>Shantae Sulton</td>\n",
       "      <td>12°07′N 68°56′W Willemstad, Netherlands</td>\n",
       "      <td>Willemstad, Netherlands</td>\n",
       "    </tr>\n",
       "    <tr>\n",
       "      <th>7</th>\n",
       "      <td>8</td>\n",
       "      <td>Tanika Carrera</td>\n",
       "      <td>38°33′N 121°28′W Sacramento, United States</td>\n",
       "      <td>Sacramento, United States</td>\n",
       "    </tr>\n",
       "    <tr>\n",
       "      <th>8</th>\n",
       "      <td>9</td>\n",
       "      <td>Lisabeth Milburn</td>\n",
       "      <td>31°56′N 35°56′E Amman, Jordan</td>\n",
       "      <td>Amman, Jordan</td>\n",
       "    </tr>\n",
       "    <tr>\n",
       "      <th>9</th>\n",
       "      <td>10</td>\n",
       "      <td>Carletta Slayton</td>\n",
       "      <td>54°05′N 2°80′W Lancaster, United Kingdom</td>\n",
       "      <td>Lancaster, United Kingdom</td>\n",
       "    </tr>\n",
       "  </tbody>\n",
       "</table>\n",
       "</div>"
      ],
      "text/plain": [
       "   ID                Name                                    Location  \\\n",
       "0   1       Spring Magoon         2°32′S 140°43′E Jayapura, Indonesia   \n",
       "1   2        Gema Coberly           22°34′S 17°05′E Windhoek, Namibia   \n",
       "2   3       Paige Wallace               44°45′N 19°42′E Šabac, Serbia   \n",
       "3   4            Sun Mees              15°36′S 56°06′W Cuiabá, Brazil   \n",
       "4   5  Germaine Manuelito            36°23′N 139°04′E Maebashi, Japan   \n",
       "5   6          Iris Cowen                 13°32′S 71°58′W Cusco, Peru   \n",
       "6   7      Shantae Sulton     12°07′N 68°56′W Willemstad, Netherlands   \n",
       "7   8      Tanika Carrera  38°33′N 121°28′W Sacramento, United States   \n",
       "8   9    Lisabeth Milburn               31°56′N 35°56′E Amman, Jordan   \n",
       "9  10    Carletta Slayton    54°05′N 2°80′W Lancaster, United Kingdom   \n",
       "\n",
       "                     Address  \n",
       "0        Jayapura, Indonesia  \n",
       "1          Windhoek, Namibia  \n",
       "2              Šabac, Serbia  \n",
       "3             Cuiabá, Brazil  \n",
       "4            Maebashi, Japan  \n",
       "5                Cusco, Peru  \n",
       "6    Willemstad, Netherlands  \n",
       "7  Sacramento, United States  \n",
       "8              Amman, Jordan  \n",
       "9  Lancaster, United Kingdom  "
      ]
     },
     "execution_count": 32,
     "metadata": {},
     "output_type": "execute_result"
    }
   ],
   "source": [
    "df"
   ]
  },
  {
   "cell_type": "markdown",
   "metadata": {},
   "source": [
    "## we are getting location in the form of (2°32′S 140°43′E Jayapura, Indonesia)we'll make it more tidy"
   ]
  },
  {
   "cell_type": "code",
   "execution_count": 33,
   "metadata": {
    "collapsed": true
   },
   "outputs": [],
   "source": [
    "df['Country']=df.Location.str.split(',').apply(lambda x:x[1])"
   ]
  },
  {
   "cell_type": "code",
   "execution_count": 34,
   "metadata": {
    "collapsed": true
   },
   "outputs": [],
   "source": [
    "df['Latitude']=df.Location.str.split(' ').apply(lambda x:x[0])"
   ]
  },
  {
   "cell_type": "code",
   "execution_count": 35,
   "metadata": {
    "collapsed": true
   },
   "outputs": [],
   "source": [
    "df['Longitude']=df.Location.str.split(' ').apply(lambda x:x[1])"
   ]
  },
  {
   "cell_type": "code",
   "execution_count": 36,
   "metadata": {
    "collapsed": true
   },
   "outputs": [],
   "source": [
    "df['State']=df.Location.str.split(', ').apply(lambda x:x[0])"
   ]
  },
  {
   "cell_type": "code",
   "execution_count": 37,
   "metadata": {
    "collapsed": true
   },
   "outputs": [],
   "source": [
    "df['State']=df['State'].apply(lambda x:x.split(' ')[2])"
   ]
  },
  {
   "cell_type": "code",
   "execution_count": 15,
   "metadata": {},
   "outputs": [
    {
     "data": {
      "text/plain": [
       "'def clean(x):\\n    x.pop(0)\\n    x.pop(0)\\n    return(x)'"
      ]
     },
     "execution_count": 15,
     "metadata": {},
     "output_type": "execute_result"
    }
   ],
   "source": [
    "\"\"\"def clean(x):\n",
    "    x.pop(0)\n",
    "    x.pop(0)\n",
    "    return(x)\"\"\""
   ]
  },
  {
   "cell_type": "code",
   "execution_count": 38,
   "metadata": {
    "collapsed": true
   },
   "outputs": [],
   "source": [
    "df=df[['ID','Name','State','Country','Latitude','Longitude','Address']]"
   ]
  },
  {
   "cell_type": "code",
   "execution_count": 39,
   "metadata": {
    "scrolled": true
   },
   "outputs": [
    {
     "data": {
      "text/html": [
       "<div>\n",
       "<style>\n",
       "    .dataframe thead tr:only-child th {\n",
       "        text-align: right;\n",
       "    }\n",
       "\n",
       "    .dataframe thead th {\n",
       "        text-align: left;\n",
       "    }\n",
       "\n",
       "    .dataframe tbody tr th {\n",
       "        vertical-align: top;\n",
       "    }\n",
       "</style>\n",
       "<table border=\"1\" class=\"dataframe\">\n",
       "  <thead>\n",
       "    <tr style=\"text-align: right;\">\n",
       "      <th></th>\n",
       "      <th>ID</th>\n",
       "      <th>Name</th>\n",
       "      <th>State</th>\n",
       "      <th>Country</th>\n",
       "      <th>Latitude</th>\n",
       "      <th>Longitude</th>\n",
       "      <th>Address</th>\n",
       "    </tr>\n",
       "  </thead>\n",
       "  <tbody>\n",
       "    <tr>\n",
       "      <th>0</th>\n",
       "      <td>1</td>\n",
       "      <td>Spring Magoon</td>\n",
       "      <td>Jayapura</td>\n",
       "      <td>Indonesia</td>\n",
       "      <td>2°32′S</td>\n",
       "      <td>140°43′E</td>\n",
       "      <td>Jayapura, Indonesia</td>\n",
       "    </tr>\n",
       "    <tr>\n",
       "      <th>1</th>\n",
       "      <td>2</td>\n",
       "      <td>Gema Coberly</td>\n",
       "      <td>Windhoek</td>\n",
       "      <td>Namibia</td>\n",
       "      <td>22°34′S</td>\n",
       "      <td>17°05′E</td>\n",
       "      <td>Windhoek, Namibia</td>\n",
       "    </tr>\n",
       "    <tr>\n",
       "      <th>2</th>\n",
       "      <td>3</td>\n",
       "      <td>Paige Wallace</td>\n",
       "      <td>Šabac</td>\n",
       "      <td>Serbia</td>\n",
       "      <td>44°45′N</td>\n",
       "      <td>19°42′E</td>\n",
       "      <td>Šabac, Serbia</td>\n",
       "    </tr>\n",
       "    <tr>\n",
       "      <th>3</th>\n",
       "      <td>4</td>\n",
       "      <td>Sun Mees</td>\n",
       "      <td>Cuiabá</td>\n",
       "      <td>Brazil</td>\n",
       "      <td>15°36′S</td>\n",
       "      <td>56°06′W</td>\n",
       "      <td>Cuiabá, Brazil</td>\n",
       "    </tr>\n",
       "    <tr>\n",
       "      <th>4</th>\n",
       "      <td>5</td>\n",
       "      <td>Germaine Manuelito</td>\n",
       "      <td>Maebashi</td>\n",
       "      <td>Japan</td>\n",
       "      <td>36°23′N</td>\n",
       "      <td>139°04′E</td>\n",
       "      <td>Maebashi, Japan</td>\n",
       "    </tr>\n",
       "    <tr>\n",
       "      <th>5</th>\n",
       "      <td>6</td>\n",
       "      <td>Iris Cowen</td>\n",
       "      <td>Cusco</td>\n",
       "      <td>Peru</td>\n",
       "      <td>13°32′S</td>\n",
       "      <td>71°58′W</td>\n",
       "      <td>Cusco, Peru</td>\n",
       "    </tr>\n",
       "    <tr>\n",
       "      <th>6</th>\n",
       "      <td>7</td>\n",
       "      <td>Shantae Sulton</td>\n",
       "      <td>Willemstad</td>\n",
       "      <td>Netherlands</td>\n",
       "      <td>12°07′N</td>\n",
       "      <td>68°56′W</td>\n",
       "      <td>Willemstad, Netherlands</td>\n",
       "    </tr>\n",
       "    <tr>\n",
       "      <th>7</th>\n",
       "      <td>8</td>\n",
       "      <td>Tanika Carrera</td>\n",
       "      <td>Sacramento</td>\n",
       "      <td>United States</td>\n",
       "      <td>38°33′N</td>\n",
       "      <td>121°28′W</td>\n",
       "      <td>Sacramento, United States</td>\n",
       "    </tr>\n",
       "    <tr>\n",
       "      <th>8</th>\n",
       "      <td>9</td>\n",
       "      <td>Lisabeth Milburn</td>\n",
       "      <td>Amman</td>\n",
       "      <td>Jordan</td>\n",
       "      <td>31°56′N</td>\n",
       "      <td>35°56′E</td>\n",
       "      <td>Amman, Jordan</td>\n",
       "    </tr>\n",
       "    <tr>\n",
       "      <th>9</th>\n",
       "      <td>10</td>\n",
       "      <td>Carletta Slayton</td>\n",
       "      <td>Lancaster</td>\n",
       "      <td>United Kingdom</td>\n",
       "      <td>54°05′N</td>\n",
       "      <td>2°80′W</td>\n",
       "      <td>Lancaster, United Kingdom</td>\n",
       "    </tr>\n",
       "  </tbody>\n",
       "</table>\n",
       "</div>"
      ],
      "text/plain": [
       "   ID                Name       State          Country Latitude Longitude  \\\n",
       "0   1       Spring Magoon    Jayapura        Indonesia   2°32′S  140°43′E   \n",
       "1   2        Gema Coberly    Windhoek          Namibia  22°34′S   17°05′E   \n",
       "2   3       Paige Wallace       Šabac           Serbia  44°45′N   19°42′E   \n",
       "3   4            Sun Mees      Cuiabá           Brazil  15°36′S   56°06′W   \n",
       "4   5  Germaine Manuelito    Maebashi            Japan  36°23′N  139°04′E   \n",
       "5   6          Iris Cowen       Cusco             Peru  13°32′S   71°58′W   \n",
       "6   7      Shantae Sulton  Willemstad      Netherlands  12°07′N   68°56′W   \n",
       "7   8      Tanika Carrera  Sacramento    United States  38°33′N  121°28′W   \n",
       "8   9    Lisabeth Milburn       Amman           Jordan  31°56′N   35°56′E   \n",
       "9  10    Carletta Slayton   Lancaster   United Kingdom  54°05′N    2°80′W   \n",
       "\n",
       "                     Address  \n",
       "0        Jayapura, Indonesia  \n",
       "1          Windhoek, Namibia  \n",
       "2              Šabac, Serbia  \n",
       "3             Cuiabá, Brazil  \n",
       "4            Maebashi, Japan  \n",
       "5                Cusco, Peru  \n",
       "6    Willemstad, Netherlands  \n",
       "7  Sacramento, United States  \n",
       "8              Amman, Jordan  \n",
       "9  Lancaster, United Kingdom  "
      ]
     },
     "execution_count": 39,
     "metadata": {},
     "output_type": "execute_result"
    }
   ],
   "source": [
    "df"
   ]
  },
  {
   "cell_type": "code",
   "execution_count": 40,
   "metadata": {
    "collapsed": true
   },
   "outputs": [],
   "source": [
    "df.set_index('ID',inplace=True)"
   ]
  },
  {
   "cell_type": "code",
   "execution_count": 41,
   "metadata": {},
   "outputs": [
    {
     "data": {
      "text/html": [
       "<div>\n",
       "<style>\n",
       "    .dataframe thead tr:only-child th {\n",
       "        text-align: right;\n",
       "    }\n",
       "\n",
       "    .dataframe thead th {\n",
       "        text-align: left;\n",
       "    }\n",
       "\n",
       "    .dataframe tbody tr th {\n",
       "        vertical-align: top;\n",
       "    }\n",
       "</style>\n",
       "<table border=\"1\" class=\"dataframe\">\n",
       "  <thead>\n",
       "    <tr style=\"text-align: right;\">\n",
       "      <th></th>\n",
       "      <th>Name</th>\n",
       "      <th>State</th>\n",
       "      <th>Country</th>\n",
       "      <th>Latitude</th>\n",
       "      <th>Longitude</th>\n",
       "      <th>Address</th>\n",
       "    </tr>\n",
       "    <tr>\n",
       "      <th>ID</th>\n",
       "      <th></th>\n",
       "      <th></th>\n",
       "      <th></th>\n",
       "      <th></th>\n",
       "      <th></th>\n",
       "      <th></th>\n",
       "    </tr>\n",
       "  </thead>\n",
       "  <tbody>\n",
       "    <tr>\n",
       "      <th>1</th>\n",
       "      <td>Spring Magoon</td>\n",
       "      <td>Jayapura</td>\n",
       "      <td>Indonesia</td>\n",
       "      <td>2°32′S</td>\n",
       "      <td>140°43′E</td>\n",
       "      <td>Jayapura, Indonesia</td>\n",
       "    </tr>\n",
       "    <tr>\n",
       "      <th>2</th>\n",
       "      <td>Gema Coberly</td>\n",
       "      <td>Windhoek</td>\n",
       "      <td>Namibia</td>\n",
       "      <td>22°34′S</td>\n",
       "      <td>17°05′E</td>\n",
       "      <td>Windhoek, Namibia</td>\n",
       "    </tr>\n",
       "    <tr>\n",
       "      <th>3</th>\n",
       "      <td>Paige Wallace</td>\n",
       "      <td>Šabac</td>\n",
       "      <td>Serbia</td>\n",
       "      <td>44°45′N</td>\n",
       "      <td>19°42′E</td>\n",
       "      <td>Šabac, Serbia</td>\n",
       "    </tr>\n",
       "    <tr>\n",
       "      <th>4</th>\n",
       "      <td>Sun Mees</td>\n",
       "      <td>Cuiabá</td>\n",
       "      <td>Brazil</td>\n",
       "      <td>15°36′S</td>\n",
       "      <td>56°06′W</td>\n",
       "      <td>Cuiabá, Brazil</td>\n",
       "    </tr>\n",
       "    <tr>\n",
       "      <th>5</th>\n",
       "      <td>Germaine Manuelito</td>\n",
       "      <td>Maebashi</td>\n",
       "      <td>Japan</td>\n",
       "      <td>36°23′N</td>\n",
       "      <td>139°04′E</td>\n",
       "      <td>Maebashi, Japan</td>\n",
       "    </tr>\n",
       "    <tr>\n",
       "      <th>6</th>\n",
       "      <td>Iris Cowen</td>\n",
       "      <td>Cusco</td>\n",
       "      <td>Peru</td>\n",
       "      <td>13°32′S</td>\n",
       "      <td>71°58′W</td>\n",
       "      <td>Cusco, Peru</td>\n",
       "    </tr>\n",
       "    <tr>\n",
       "      <th>7</th>\n",
       "      <td>Shantae Sulton</td>\n",
       "      <td>Willemstad</td>\n",
       "      <td>Netherlands</td>\n",
       "      <td>12°07′N</td>\n",
       "      <td>68°56′W</td>\n",
       "      <td>Willemstad, Netherlands</td>\n",
       "    </tr>\n",
       "    <tr>\n",
       "      <th>8</th>\n",
       "      <td>Tanika Carrera</td>\n",
       "      <td>Sacramento</td>\n",
       "      <td>United States</td>\n",
       "      <td>38°33′N</td>\n",
       "      <td>121°28′W</td>\n",
       "      <td>Sacramento, United States</td>\n",
       "    </tr>\n",
       "    <tr>\n",
       "      <th>9</th>\n",
       "      <td>Lisabeth Milburn</td>\n",
       "      <td>Amman</td>\n",
       "      <td>Jordan</td>\n",
       "      <td>31°56′N</td>\n",
       "      <td>35°56′E</td>\n",
       "      <td>Amman, Jordan</td>\n",
       "    </tr>\n",
       "    <tr>\n",
       "      <th>10</th>\n",
       "      <td>Carletta Slayton</td>\n",
       "      <td>Lancaster</td>\n",
       "      <td>United Kingdom</td>\n",
       "      <td>54°05′N</td>\n",
       "      <td>2°80′W</td>\n",
       "      <td>Lancaster, United Kingdom</td>\n",
       "    </tr>\n",
       "  </tbody>\n",
       "</table>\n",
       "</div>"
      ],
      "text/plain": [
       "                  Name       State          Country Latitude Longitude  \\\n",
       "ID                                                                       \n",
       "1        Spring Magoon    Jayapura        Indonesia   2°32′S  140°43′E   \n",
       "2         Gema Coberly    Windhoek          Namibia  22°34′S   17°05′E   \n",
       "3        Paige Wallace       Šabac           Serbia  44°45′N   19°42′E   \n",
       "4             Sun Mees      Cuiabá           Brazil  15°36′S   56°06′W   \n",
       "5   Germaine Manuelito    Maebashi            Japan  36°23′N  139°04′E   \n",
       "6           Iris Cowen       Cusco             Peru  13°32′S   71°58′W   \n",
       "7       Shantae Sulton  Willemstad      Netherlands  12°07′N   68°56′W   \n",
       "8       Tanika Carrera  Sacramento    United States  38°33′N  121°28′W   \n",
       "9     Lisabeth Milburn       Amman           Jordan  31°56′N   35°56′E   \n",
       "10    Carletta Slayton   Lancaster   United Kingdom  54°05′N    2°80′W   \n",
       "\n",
       "                      Address  \n",
       "ID                             \n",
       "1         Jayapura, Indonesia  \n",
       "2           Windhoek, Namibia  \n",
       "3               Šabac, Serbia  \n",
       "4              Cuiabá, Brazil  \n",
       "5             Maebashi, Japan  \n",
       "6                 Cusco, Peru  \n",
       "7     Willemstad, Netherlands  \n",
       "8   Sacramento, United States  \n",
       "9               Amman, Jordan  \n",
       "10  Lancaster, United Kingdom  "
      ]
     },
     "execution_count": 41,
     "metadata": {},
     "output_type": "execute_result"
    }
   ],
   "source": [
    "df"
   ]
  },
  {
   "cell_type": "code",
   "execution_count": 25,
   "metadata": {
    "collapsed": true
   },
   "outputs": [],
   "source": [
    "sh=gc.open('TEST_Emp_data')\n",
    "wks = sh.sheet1"
   ]
  },
  {
   "cell_type": "code",
   "execution_count": 29,
   "metadata": {},
   "outputs": [
    {
     "name": "stdout",
     "output_type": "stream",
     "text": [
      "Wall time: 422 ms\n"
     ]
    }
   ],
   "source": [
    "%%time\n",
    "# create a new sheet with 50 rows and 60 colums\n",
    "wks=sh.add_worksheet(\"Pandas Sheet\",rows=50,cols=60)"
   ]
  },
  {
   "cell_type": "markdown",
   "metadata": {},
   "source": [
    "#### Pandas integration"
   ]
  },
  {
   "cell_type": "code",
   "execution_count": 31,
   "metadata": {
    "collapsed": true
   },
   "outputs": [],
   "source": [
    "#set the values of a pandas dataframe to sheet\n",
    "wks.set_dataframe(df,start=(1,1))"
   ]
  },
  {
   "cell_type": "code",
   "execution_count": null,
   "metadata": {
    "collapsed": true
   },
   "outputs": [],
   "source": []
  }
 ],
 "metadata": {
  "kernelspec": {
   "display_name": "Python 3",
   "language": "python",
   "name": "python3"
  },
  "language_info": {
   "codemirror_mode": {
    "name": "ipython",
    "version": 3
   },
   "file_extension": ".py",
   "mimetype": "text/x-python",
   "name": "python",
   "nbconvert_exporter": "python",
   "pygments_lexer": "ipython3",
   "version": "3.5.2"
  }
 },
 "nbformat": 4,
 "nbformat_minor": 2
}
